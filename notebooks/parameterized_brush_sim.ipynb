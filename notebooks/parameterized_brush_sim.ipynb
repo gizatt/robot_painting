{
 "cells": [
  {
   "cell_type": "markdown",
   "metadata": {},
   "source": [
    "I think we'd get a lot more expressive power (and stroke economy) if we can parameterize the path of single stroke. We'll need to work pretty hard to render the result, and potentially learn fast and batch-able approximate model for use in planning.\n",
    "\n",
    "I'll parameterize a brush stroke with a 3D spline controlled by a fixed number of control points. The first two dimensions are image XY coordinates, and the third is pressure (translating, for now, to brush size)."
   ]
  },
  {
   "cell_type": "code",
   "execution_count": 1,
   "metadata": {},
   "outputs": [],
   "source": [
    "import torch\n",
    "import numpy as np\n",
    "import matplotlib.pyplot as plt"
   ]
  },
  {
   "cell_type": "code",
   "execution_count": null,
   "metadata": {},
   "outputs": [],
   "source": [
    "def BrushStroke():\n",
    "    N_control_points = 5\n",
    "    def __init__(self, pts):\n",
    "        assert isinstance(pts, torch.Tensor) and pts.shape == (3, self.N_control_points)\n",
    "        self.pts = pts\n",
    "    \n",
    "    def \n"
   ]
  }
 ],
 "metadata": {
  "kernelspec": {
   "display_name": "py36_pyro",
   "language": "python",
   "name": "py36_pyro"
  },
  "language_info": {
   "codemirror_mode": {
    "name": "ipython",
    "version": 3
   },
   "file_extension": ".py",
   "mimetype": "text/x-python",
   "name": "python",
   "nbconvert_exporter": "python",
   "pygments_lexer": "ipython3",
   "version": "3.6.13"
  }
 },
 "nbformat": 4,
 "nbformat_minor": 4
}
