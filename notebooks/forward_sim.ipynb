{
 "cells": [
  {
   "cell_type": "code",
   "execution_count": 138,
   "metadata": {},
   "outputs": [
    {
     "name": "stdout",
     "output_type": "stream",
     "text": [
      "The autoreload extension is already loaded. To reload it, use:\n",
      "  %reload_ext autoreload\n"
     ]
    }
   ],
   "source": [
    "%load_ext autoreload\n",
    "%autoreload 2\n",
    "import imageio\n",
    "from robot_painting.pytorch_planar_scene_drawing import *\n",
    "import matplotlib.pyplot as plt\n",
    "import numpy as np\n",
    "from tqdm.notebook import tqdm\n",
    "\n",
    "import torch\n",
    "cuda = torch.device('cuda')"
   ]
  },
  {
   "cell_type": "code",
   "execution_count": 139,
   "metadata": {},
   "outputs": [
    {
     "name": "stdout",
     "output_type": "stream",
     "text": [
      "Rows:  745\n",
      "Cols:  1280\n",
      "Found brushes:  ['../data/brushes/dry-brush-stroke-21.png']\n"
     ]
    }
   ],
   "source": [
    "target_image_path = \"../data/target.jpeg\"\n",
    "target_image_np = imageio.imread(target_image_path).astype(np.float)/256.\n",
    "target_image = torch.tensor(target_image_np, device=cuda).permute(2, 0, 1)\n",
    "n_channels, image_rows, image_cols = target_image.shape\n",
    "\n",
    "print(\"Rows: \", image_rows)\n",
    "print(\"Cols: \", image_cols)\n",
    "\n",
    "brush_search_paths = [\"../data/brushes/*.png\"]\n",
    "# Open every image in that folder\n",
    "brush_paths = sum([glob.glob(sp) for sp in brush_search_paths], [])\n",
    "print(\"Found brushes: \", brush_paths)\n",
    "\n",
    "raw_brushes = [imageio.imread(brush_path).astype(np.float) / 256. for brush_path in brush_paths]\n",
    "raw_brushes = numpy_images_to_torch(raw_brushes).cuda()"
   ]
  },
  {
   "cell_type": "code",
   "execution_count": null,
   "metadata": {},
   "outputs": [
    {
     "data": {
      "application/vnd.jupyter.widget-view+json": {
       "model_id": "e578839ea11e439a886379386d00b9b9",
       "version_major": 2,
       "version_minor": 0
      },
      "text/plain": [
       "  0%|          | 0/10000 [00:00<?, ?it/s]"
      ]
     },
     "metadata": {},
     "output_type": "display_data"
    }
   ],
   "source": [
    "# Evaluate how long it takes to apply a brush to an image.\n",
    "current_image = torch.ones(1, 3, image_rows, image_cols).cuda()\n",
    "target_image_oil = b2p(target_image)\n",
    "b2p, p2b = oilpaint_converters(device=torch.device('cuda'))\n",
    "\n",
    "N_sprites_in_batch = 10\n",
    "orig_brush_mask = raw_brushes[0][3, :].cuda()\n",
    "brushes = torch.empty(N_sprites_in_batch, 4, orig_brush_mask.shape[0], orig_brush_mask.shape[1], device=cuda)\n",
    "times = {\n",
    "    \"brush\": [],\n",
    "    \"drawing\": [],\n",
    "    \"oil\": []\n",
    "}\n",
    "    \n",
    "N_iters = 10000\n",
    "for iter_k in tqdm(range(N_iters)):\n",
    "    # Draw brush at random pose with random color.\n",
    "    start_time = time.time()\n",
    "    \n",
    "    sprite_poses = torch.stack([\n",
    "        torch.randint(low=int(-image_rows / 2), high=int(image_rows / 2), size=(N_sprites_in_batch,)),\n",
    "        torch.randint(low=int(-image_cols / 2), high=int(image_cols / 2), size=(N_sprites_in_batch,)),\n",
    "        torch.rand(N_sprites_in_batch) * np.pi * 2.\n",
    "    ]).T\n",
    "    # Random color + opacity.\n",
    "    for k in range(N_sprites_in_batch):\n",
    "        center = sprite_poses[k, 0:2]\n",
    "        center_x = int(min(max(center[0].item() + (image_rows / 2), 0), image_rows))\n",
    "        center_y = int(min(max(center[1].item() + (image_cols / 2), 0), image_cols))\n",
    "        for i in range(3):\n",
    "            brushes[k, i, :, :] = target_image[i, center_x, center_y]\n",
    "        brushes[k, 3, :, :] = orig_brush_mask * torch.rand(1, device=cuda)\n",
    "    post_brush_setup_time = time.time()\n",
    "    \n",
    "    sprites_scales = torch.ones(N_sprites_in_batch, 1) * (1. - float(iter_k) / N_iters)**2.\n",
    "    sprite_ims = draw_sprites_at_poses(\n",
    "          sprite_poses, sprites_scales,\n",
    "          brushes.shape[2], brushes.shape[3],\n",
    "          image_rows, image_cols,\n",
    "          brushes\n",
    "    )\n",
    "    \n",
    "    post_drawing_time = time.time()\n",
    "    \n",
    "    # How much does rendering each one get us closer\n",
    "    # to the desired image?\n",
    "    image_pre_oil = b2p(current_image)\n",
    "    sprite_ims_oil = b2p(sprite_ims)\n",
    "    \n",
    "    curr_error = torch.mean(torch.square(target_image_oil - image_pre_oil[:3, :, :]))\n",
    "    alphas = 1. - sprite_ims_oil[:, 3:, :, :]  # alphas inverted in absorb space\n",
    "    inv_alphs = sprite_ims_oil[:, 3:, :, :]\n",
    "        \n",
    "    # Reduce down to one image\n",
    "    # Permute for easier alpha combo\n",
    "    image = image_pre_oil[0, :3, :, :]\n",
    "    scaled_sprites = sprite_ims_oil[:, :3, :, :] * alphas\n",
    "    for k in range(sprite_ims_oil.shape[0]):\n",
    "        new_image = image * inv_alphs[k, ...] + scaled_sprites[k, ...]\n",
    "        new_error = torch.mean(torch.square(target_image_oil - new_image))\n",
    "        if new_error <= curr_error:\n",
    "            image = new_image\n",
    "            \n",
    "    current_image = p2b(image).unsqueeze(0)\n",
    "    \n",
    "    end_time = time.time()\n",
    "    \n",
    "    times[\"brush\"].append(post_brush_setup_time - start_time)\n",
    "    times[\"drawing\"].append(post_drawing_time - post_brush_setup_time)\n",
    "    times[\"oil\"].append(end_time - post_drawing_time)\n",
    "    \n",
    "sizes = [np.mean(val)*1000 for val in times.values()]\n",
    "total_times = sum([np.array(val) for val in times.values()])\n",
    "labels = [\"%s (%0.2f +/- %f ms)\" % (key, np.mean(val)*1000, np.std(val)*1000) for key, val in times.items()]\n",
    "\n",
    "plt.figure()\n",
    "plt.subplot(2, 1, 1)\n",
    "plt.pie(sizes, labels=labels, normalize=True)\n",
    "plt.subplot(2, 1, 2)\n",
    "plt.plot(total_times)\n",
    "plt.title(\"Total times across iters\")"
   ]
  },
  {
   "cell_type": "code",
   "execution_count": null,
   "metadata": {},
   "outputs": [],
   "source": [
    "dpi = 300\n",
    "plt.figure(dpi=dpi).set_size_inches(image_rows/dpi, image_cols/dpi)\n",
    "plt.imshow(target_image.permute(1, 2, 0).cpu().numpy())\n",
    "plt.axis('off')\n",
    "plt.title(\"Target\")\n",
    "\n",
    "dpi = 300\n",
    "plt.figure(dpi=dpi).set_size_inches(image_rows/dpi, image_cols/dpi)\n",
    "plt.imshow(current_image[0, :].permute(1, 2, 0).cpu().numpy())\n",
    "plt.axis('off')\n",
    "plt.title(\"Recovered\")"
   ]
  },
  {
   "cell_type": "code",
   "execution_count": null,
   "metadata": {},
   "outputs": [],
   "source": []
  }
 ],
 "metadata": {
  "kernelspec": {
   "display_name": "py36_pyro",
   "language": "python",
   "name": "py36_pyro"
  },
  "language_info": {
   "codemirror_mode": {
    "name": "ipython",
    "version": 3
   },
   "file_extension": ".py",
   "mimetype": "text/x-python",
   "name": "python",
   "nbconvert_exporter": "python",
   "pygments_lexer": "ipython3",
   "version": "3.6.13"
  }
 },
 "nbformat": 4,
 "nbformat_minor": 4
}
